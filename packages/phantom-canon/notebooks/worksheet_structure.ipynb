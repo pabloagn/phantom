{
 "cells": [
  {
   "cell_type": "markdown",
   "id": "0f47372f",
   "metadata": {},
   "source": [
    "## Import Modules\n",
    "---"
   ]
  },
  {
   "cell_type": "code",
   "execution_count": 1,
   "id": "ef2ec4b6",
   "metadata": {},
   "outputs": [],
   "source": [
    "import openpyxl\n",
    "from openpyxl.utils.cell import range_boundaries\n",
    "from pathlib import Path\n",
    "import logging\n",
    "import warnings\n",
    "import time\n",
    "import pandas as pd\n",
    "import re"
   ]
  },
  {
   "cell_type": "markdown",
   "id": "83d07178",
   "metadata": {},
   "source": [
    "## Setup\n",
    "---"
   ]
  },
  {
   "cell_type": "code",
   "execution_count": 2,
   "id": "1cf725dc",
   "metadata": {},
   "outputs": [],
   "source": [
    "# Use force=True if logging doesn't appear in the notebook otherwise\n",
    "logging.basicConfig(level=logging.INFO, format='%(levelname)s: %(message)s', force=True)\n",
    "log = logging.getLogger(__name__)\n",
    "\n",
    "# Suppress openpyxl warnings about data validation extensions if they occur\n",
    "warnings.filterwarnings('ignore', category=UserWarning, module='openpyxl')"
   ]
  },
  {
   "cell_type": "code",
   "execution_count": 3,
   "id": "3ed7eb72",
   "metadata": {},
   "outputs": [
    {
     "name": "stderr",
     "output_type": "stream",
     "text": [
      "INFO: Notebook directory detected: d:\\Documents\\phantom\\phantom-canon\\notebooks\n",
      "INFO: Assuming project root: d:\\Documents\\phantom\\phantom-canon\n"
     ]
    }
   ],
   "source": [
    "try:\n",
    "    # Get the current working directory of the notebook kernel\n",
    "    notebook_dir = Path.cwd()\n",
    "    project_root = notebook_dir.parent # Go one level up from 'notebooks/' to the project root 'D:/'\n",
    "    log.info(f\"Notebook directory detected: {notebook_dir}\")\n",
    "    log.info(f\"Assuming project root: {project_root}\")\n",
    "except Exception as e:\n",
    "    log.error(f\"Could not automatically determine project root. Please set 'project_root' manually. Error: {e}\")\n",
    "    # Fallback: Define project_root manually if needed (less portable)"
   ]
  },
  {
   "cell_type": "code",
   "execution_count": 4,
   "id": "8d9f0d38",
   "metadata": {},
   "outputs": [],
   "source": [
    "# Construct the path to the Excel file\n",
    "excel_file_path = project_root / \"data\" / \"knowledge_base.xlsx\""
   ]
  },
  {
   "cell_type": "markdown",
   "id": "044a0c77",
   "metadata": {},
   "source": [
    "## Define Inspector\n",
    "---"
   ]
  },
  {
   "cell_type": "code",
   "execution_count": 5,
   "id": "67f0ec99",
   "metadata": {},
   "outputs": [],
   "source": [
    "def inspect_excel_tables(file_path: Path) -> pd.DataFrame:\n",
    "    \"\"\"\n",
    "    Inspects an Excel file (.xlsx) to extract all tables and their complete column structures.\n",
    "    This function:\n",
    "    1. First uses defined names to identify tables\n",
    "    2. Then directly scans the workbook for Excel Tables to get all columns\n",
    "    3. Falls back to extracting from defined names for tables not found as ListObjects\n",
    "    \"\"\"\n",
    "    results = []\n",
    "    if not file_path.is_file():\n",
    "        print(f\"ERROR: Excel file not found: {file_path}\")\n",
    "        log.error(f\"Excel file not found: {file_path}\")\n",
    "        return pd.DataFrame(columns=['Sheet', 'Table', 'Column'])\n",
    "\n",
    "    print(f\"\\nDEBUG: Starting inspection of Excel tables: {file_path.name}\")\n",
    "    log.info(f\"Starting inspection of Excel tables: {file_path.name}\")\n",
    "\n",
    "    start_time = time.time()\n",
    "    \n",
    "    # First collect all table names from defined names\n",
    "    table_names_from_refs = set()\n",
    "    table_column_regex = re.compile(r\"^(?P<table_name>[^[]+)\\[(?P<column_name>[^\\]]+)\\]$\", re.IGNORECASE)\n",
    "    \n",
    "    # Track table columns from defined names\n",
    "    defined_name_columns = {}  # table_name -> set of column names\n",
    "\n",
    "    try:\n",
    "        print(f\"DEBUG: Loading workbook in read-only mode for defined names... {time.strftime('%H:%M:%S')}\")\n",
    "        workbook_read_only = openpyxl.load_workbook(filename=file_path, read_only=True, data_only=True)\n",
    "        \n",
    "        # Extract table names from defined names\n",
    "        if workbook_read_only.defined_names:\n",
    "            defined_name_list = list(workbook_read_only.defined_names.values())\n",
    "            print(f\"DEBUG: Found {len(defined_name_list)} defined names. Scanning for table references...\")\n",
    "            \n",
    "            for dn in defined_name_list:\n",
    "                range_string = dn.value\n",
    "                \n",
    "                if not range_string or not isinstance(range_string, str):\n",
    "                    continue\n",
    "                    \n",
    "                # Try to match Table[Column] pattern\n",
    "                table_column_match = table_column_regex.match(range_string)\n",
    "                if table_column_match:\n",
    "                    table_name = table_column_match.group('table_name')\n",
    "                    column_name = table_column_match.group('column_name')\n",
    "                    \n",
    "                    # Add to table names set\n",
    "                    table_names_from_refs.add(table_name)\n",
    "                    \n",
    "                    # Add column to the table's column set\n",
    "                    if table_name not in defined_name_columns:\n",
    "                        defined_name_columns[table_name] = set()\n",
    "                    defined_name_columns[table_name].add(column_name)\n",
    "                    \n",
    "            print(f\"DEBUG: Extracted {len(table_names_from_refs)} unique table names from defined names: {table_names_from_refs}\")\n",
    "        \n",
    "        # Close read-only workbook\n",
    "        workbook_read_only.close()\n",
    "        \n",
    "        # Second pass: Try to get all actual Excel tables and their columns\n",
    "        processed_tables = set()  # Keep track of tables we've already processed\n",
    "        \n",
    "        print(f\"DEBUG: Loading workbook to access table objects... {time.strftime('%H:%M:%S')}\")\n",
    "        workbook = openpyxl.load_workbook(filename=file_path, data_only=True)\n",
    "        \n",
    "        # Process each sheet looking for tables\n",
    "        sheets_with_tables = 0\n",
    "        tables_found = 0\n",
    "        \n",
    "        for sheet_name in workbook.sheetnames:\n",
    "            try:\n",
    "                worksheet = workbook[sheet_name]\n",
    "                \n",
    "                # Check if worksheet has tables attribute and it's not empty\n",
    "                if not hasattr(worksheet, 'tables') or not worksheet.tables:\n",
    "                    continue\n",
    "                    \n",
    "                sheets_with_tables += 1\n",
    "                print(f\"DEBUG: Found {len(worksheet.tables)} tables in sheet '{sheet_name}'\")\n",
    "                \n",
    "                # Process each table in the sheet\n",
    "                for table_name in worksheet.tables:\n",
    "                    tables_found += 1\n",
    "                    print(f\"DEBUG: Processing table '{table_name}' in sheet '{sheet_name}'\")\n",
    "                    \n",
    "                    try:\n",
    "                        # For newer versions of openpyxl, tables is a dict with table names as keys\n",
    "                        # The actual table objects are in _tables\n",
    "                        if hasattr(worksheet, '_tables') and table_name in worksheet._tables:\n",
    "                            table_obj = worksheet._tables[table_name]\n",
    "                            table_range = table_obj.ref\n",
    "                            \n",
    "                            # Parse the range to get row and column boundaries\n",
    "                            min_col, min_row, max_col, max_row = range_boundaries(table_range)\n",
    "                            \n",
    "                            # Read the header row (first row of the table)\n",
    "                            header_row = []\n",
    "                            for col in range(min_col, max_col + 1):\n",
    "                                cell = worksheet.cell(row=min_row, column=col)\n",
    "                                if cell.value:\n",
    "                                    header_row.append(str(cell.value).strip())\n",
    "                            \n",
    "                            print(f\"DEBUG: Found {len(header_row)} columns in table '{table_name}': {header_row}\")\n",
    "                            \n",
    "                            # Add each column to results\n",
    "                            for column in header_row:\n",
    "                                results.append({\n",
    "                                    'Sheet': sheet_name,\n",
    "                                    'Table': table_name,\n",
    "                                    'Column': column\n",
    "                                })\n",
    "                            \n",
    "                            # Mark this table as processed\n",
    "                            processed_tables.add(table_name)\n",
    "                            \n",
    "                        else:\n",
    "                            print(f\"WARNING: Could not access table object for '{table_name}' in sheet '{sheet_name}'\")\n",
    "                    except Exception as table_err:\n",
    "                        print(f\"ERROR: Failed to process table '{table_name}' in sheet '{sheet_name}': {table_err}\")\n",
    "                        log.error(f\"Error processing table '{table_name}': {table_err}\")\n",
    "            except Exception as sheet_err:\n",
    "                print(f\"ERROR: Failed to process sheet '{sheet_name}': {sheet_err}\")\n",
    "                log.error(f\"Error processing sheet '{sheet_name}': {sheet_err}\")\n",
    "                continue\n",
    "                \n",
    "        # Third pass: Add columns from defined names for tables we didn't find as table objects\n",
    "        for table_name in table_names_from_refs:\n",
    "            if table_name not in processed_tables and table_name in defined_name_columns:\n",
    "                print(f\"DEBUG: Adding {len(defined_name_columns[table_name])} columns for table '{table_name}' from defined names\")\n",
    "                \n",
    "                for column_name in defined_name_columns[table_name]:\n",
    "                    results.append({\n",
    "                        'Sheet': 'Unknown (From Defined Name)',\n",
    "                        'Table': table_name,\n",
    "                        'Column': column_name\n",
    "                    })\n",
    "                \n",
    "                # Mark as processed\n",
    "                processed_tables.add(table_name)\n",
    "            \n",
    "        print(f\"DEBUG: Processed {len(processed_tables)} tables in total\")\n",
    "        workbook.close()\n",
    "        \n",
    "    except Exception as e:\n",
    "        duration = time.time() - start_time\n",
    "        print(f\"ERROR: An exception occurred after {duration:.2f} seconds: {e}\")\n",
    "        log.error(f\"Failed to process Excel file {file_path} after {duration:.2f} seconds: {e}\", exc_info=True)\n",
    "        import traceback\n",
    "        print(\"\\n--- TRACEBACK ---\")\n",
    "        traceback.print_exc()\n",
    "        print(\"--- END TRACEBACK ---\\n\")\n",
    "        return pd.DataFrame(columns=['Sheet', 'Table', 'Column'])\n",
    "\n",
    "    total_duration = time.time() - start_time\n",
    "    print(f\"\\nDEBUG: Table inspection finished. Duration: {total_duration:.2f} seconds.\")\n",
    "    log.info(f\"Table inspection finished. Duration: {total_duration:.2f} seconds.\")\n",
    "\n",
    "    if not results:\n",
    "        print(\"WARNING: No table structures found in the workbook.\")\n",
    "        log.warning(\"No table structures found in the workbook.\")\n",
    "        return pd.DataFrame(columns=['Sheet', 'Table', 'Column'])\n",
    "\n",
    "    df_structure = pd.DataFrame(results)\n",
    "    df_structure = df_structure.dropna(subset=['Column'])\n",
    "    df_structure = df_structure.drop_duplicates().reset_index(drop=True)\n",
    "\n",
    "    print(f\"INFO: Found {len(df_structure)} columns across {df_structure['Table'].nunique()} tables in {df_structure['Sheet'].nunique()} sheets.\")\n",
    "    log.info(f\"Inspection complete. Found {len(df_structure)} columns across {df_structure['Table'].nunique()} tables in {df_structure['Sheet'].nunique()} sheets.\")\n",
    "    \n",
    "    return df_structure"
   ]
  },
  {
   "cell_type": "markdown",
   "id": "2b48f6df",
   "metadata": {},
   "source": [
    "## Execute\n",
    "---"
   ]
  },
  {
   "cell_type": "code",
   "execution_count": 6,
   "id": "1bab7bef",
   "metadata": {},
   "outputs": [
    {
     "name": "stderr",
     "output_type": "stream",
     "text": [
      "INFO: Starting inspection of Excel tables: knowledge_base.xlsx\n"
     ]
    },
    {
     "name": "stdout",
     "output_type": "stream",
     "text": [
      "\n",
      "DEBUG: Starting inspection of Excel tables: knowledge_base.xlsx\n",
      "DEBUG: Loading workbook in read-only mode for defined names... 21:36:58\n",
      "DEBUG: Found 23 defined names. Scanning for table references...\n",
      "DEBUG: Extracted 11 unique table names from defined names: {'Table_Languages', 'Centuries_Table', 'Table_Books', 'Table_Score_0_5_Halves', 'Art_Movements_Table', 'Table_Art_Types', 'Table_Months', 'Table_Publishing_Houses', 'Table_People', 'Table_Book_Series', 'Table_Score_0_5_Fulls'}\n",
      "DEBUG: Loading workbook to access table objects... 21:36:58\n"
     ]
    },
    {
     "name": "stderr",
     "output_type": "stream",
     "text": [
      "INFO: Table inspection finished. Duration: 95.27 seconds.\n",
      "INFO: Inspection complete. Found 175 columns across 30 tables in 27 sheets.\n"
     ]
    },
    {
     "name": "stdout",
     "output_type": "stream",
     "text": [
      "DEBUG: Found 1 tables in sheet 'Occult_Library'\n",
      "DEBUG: Processing table 'Table_Occult_Library' in sheet 'Occult_Library'\n",
      "DEBUG: Found 13 columns in table 'Table_Occult_Library': ['Entry_Number', 'Category_01', 'Category_01_Number', 'Category_02', 'Category_02_Number', 'Title', 'Author', 'Edition/Translation', 'Edition_Language', 'Original_Language', 'Type', 'Description', 'Notes']\n",
      "DEBUG: Found 1 tables in sheet 'People'\n",
      "DEBUG: Processing table 'Table_People' in sheet 'People'\n",
      "DEBUG: Found 21 columns in table 'Table_People': ['Hash_ID', 'Name', 'Surname', 'Real Name', 'Type', 'Gender', 'Nationality', 'Birth_Date_Day', 'Birth_Date_Month', 'Birth_Date_Year', 'Birth_Date_Year_Gregorian', 'Birth_Date_Year_IsRange', 'Death_Date_Day', 'Death_Date_Month', 'Death_Date_Year', 'Death_Date_Year_Gregorian', 'Death_Date_Year_IsRange', 'Complete Name (Name Surname)', 'Complete Name (Surname Name)', 'Duplicated_Entry', 'Has_Image [Y/N]']\n",
      "DEBUG: Found 1 tables in sheet 'Calendars_Gregorian'\n",
      "DEBUG: Processing table 'Table_Calendars_Gregorian' in sheet 'Calendars_Gregorian'\n",
      "DEBUG: Found 2 columns in table 'Table_Calendars_Gregorian': ['Class', 'Description']\n",
      "DEBUG: Found 1 tables in sheet 'Books'\n",
      "DEBUG: Processing table 'Table_Books' in sheet 'Books'\n",
      "DEBUG: Found 41 columns in table 'Table_Books': ['Hash_ID', 'Duplicated_Entry', 'Title', 'Author', 'Series', 'Series_Number', 'Published_Date', 'Edition', 'Publisher', 'Published_Title', 'Published_Language', 'Page_Count', 'Description_GenAI', 'Recommended_By', 'Priority', 'Rating', 'Read', 'Started_Date', 'Finished_Date', 'Library_Physical_MEX', 'Library_Physical_EUR', 'Library_Digital_Main', 'Library_Mobile_Kindle', 'Library_Mobile_iPad', 'Library_Mobile_iPhone', 'Goodreads_Path', 'Hardcover_ID', 'Hardcover_Path', 'Cover_RAW', 'Cover_FTD', 'Published_Date_Decade', 'Published_Date_Century', 'Book_Type', 'Temporary Tags', 'Tradition', 'Notes', 'Composite_Work_Author', 'Composite_Author_Work', 'Composite_Work_Author_Clean', 'Goodreads_URL', 'Hardcover_URL']\n",
      "DEBUG: Found 1 tables in sheet 'Films'\n",
      "DEBUG: Processing table 'Table_Films' in sheet 'Films'\n",
      "DEBUG: Found 10 columns in table 'Table_Films': ['Hash_ID', 'Duplicated_Entry', 'Title', 'Director', 'Composite_Work_Author', 'Composite_Author_Work', 'Year', 'Decade', 'Century', 'Country']\n",
      "DEBUG: Found 1 tables in sheet 'URLs'\n",
      "DEBUG: Processing table 'Table_URLs' in sheet 'URLs'\n",
      "DEBUG: Found 2 columns in table 'Table_URLs': ['Concept', 'URL']\n",
      "DEBUG: Found 1 tables in sheet 'Months'\n",
      "DEBUG: Processing table 'Table_Months' in sheet 'Months'\n",
      "DEBUG: Found 3 columns in table 'Table_Months': ['Month_Number', 'Month_Name_Short', 'Month_Name_Long']\n",
      "DEBUG: Found 1 tables in sheet 'Book_Editions'\n",
      "DEBUG: Processing table 'Table_Book_Editions' in sheet 'Book_Editions'\n",
      "DEBUG: Found 11 columns in table 'Table_Book_Editions': ['Hash_ID', 'Hash_ID_Books', 'Title', 'Author', 'Edition', 'Publisher', 'Edition_Title', 'Published_Title', 'Published_Language', 'Published_Date', 'ISBN13']\n",
      "DEBUG: Found 1 tables in sheet 'Book_Series'\n",
      "DEBUG: Processing table 'Table_Book_Series' in sheet 'Book_Series'\n",
      "DEBUG: Found 6 columns in table 'Table_Book_Series': ['Title', 'Original Title', 'Author', 'Composite_Work_Author', 'Composite_Author_Work', 'Duplicated_Entry']\n",
      "DEBUG: Found 1 tables in sheet 'Art_Types'\n",
      "DEBUG: Processing table 'Table_Art_Types' in sheet 'Art_Types'\n",
      "DEBUG: Found 4 columns in table 'Table_Art_Types': ['Book_Type', 'Description', 'Applicable_Work_Type(s)', 'Duplicated_Entry']\n",
      "DEBUG: Found 1 tables in sheet 'Book_Categories'\n",
      "DEBUG: Processing table 'Table_Book_Categories' in sheet 'Book_Categories'\n",
      "DEBUG: Found 4 columns in table 'Table_Book_Categories': ['Category_1', 'Category_2', 'Category_3', 'Notes_Scope_Example']\n",
      "DEBUG: Found 1 tables in sheet 'Literary_Movements'\n",
      "DEBUG: Processing table 'Table_Literary_Movements' in sheet 'Literary_Movements'\n",
      "DEBUG: Found 5 columns in table 'Table_Literary_Movements': ['Level 1 (Era/Broad School)', 'Level 2 (Movement)', 'Level 3 (Sub-movement/Related)', 'Notes / Scope Example', 'Duplicated_Entry']\n",
      "DEBUG: Found 1 tables in sheet 'Themes'\n",
      "DEBUG: Processing table 'Table_Themes' in sheet 'Themes'\n",
      "DEBUG: Found 3 columns in table 'Table_Themes': ['Category', 'Subcategory', 'Theme']\n",
      "DEBUG: Found 1 tables in sheet 'Subjects'\n",
      "DEBUG: Processing table 'Table27' in sheet 'Subjects'\n",
      "DEBUG: Found 2 columns in table 'Table27': ['Name', 'Description (Optional)']\n",
      "DEBUG: Found 1 tables in sheet 'Keywords'\n",
      "DEBUG: Processing table 'Table28' in sheet 'Keywords'\n",
      "DEBUG: Found 1 columns in table 'Table28': ['Name']\n",
      "DEBUG: Found 1 tables in sheet 'Publisher_Specialties'\n",
      "DEBUG: Processing table 'Table29' in sheet 'Publisher_Specialties'\n",
      "DEBUG: Found 1 columns in table 'Table29': ['Name']\n",
      "DEBUG: Found 1 tables in sheet 'Paintings'\n",
      "DEBUG: Processing table 'Table_Paintings' in sheet 'Paintings'\n",
      "DEBUG: Found 8 columns in table 'Table_Paintings': ['Hash_ID', 'Title', 'Author', 'Composite_Work_Author', 'Duplicated_Entry', 'Art_Movement', 'Orientation', 'Century']\n",
      "DEBUG: Found 1 tables in sheet 'Attributes'\n",
      "DEBUG: Processing table 'Table_Attributes' in sheet 'Attributes'\n",
      "DEBUG: Found 4 columns in table 'Table_Attributes': ['Name', 'Description (Optional)', 'Category (Optional)', 'Duplicated_Entry']\n",
      "DEBUG: Found 1 tables in sheet 'Work_Types'\n",
      "DEBUG: Processing table 'Table_Work_Types' in sheet 'Work_Types'\n",
      "DEBUG: Found 2 columns in table 'Table_Work_Types': ['Name', 'Description']\n",
      "DEBUG: Found 1 tables in sheet 'Contribution_Types'\n",
      "DEBUG: Processing table 'Table_Contribution_types' in sheet 'Contribution_Types'\n",
      "DEBUG: Found 3 columns in table 'Table_Contribution_types': ['Name', 'Description', 'Examples of Use']\n",
      "DEBUG: Found 4 tables in sheet 'Validation_Fields'\n",
      "DEBUG: Processing table 'Table_Score_0_5_Halves' in sheet 'Validation_Fields'\n",
      "DEBUG: Found 1 columns in table 'Table_Score_0_5_Halves': ['Score']\n",
      "DEBUG: Processing table 'Table_Check' in sheet 'Validation_Fields'\n",
      "DEBUG: Found 1 columns in table 'Table_Check': ['Check']\n",
      "DEBUG: Processing table 'Centuries_Table' in sheet 'Validation_Fields'\n",
      "DEBUG: Found 1 columns in table 'Centuries_Table': ['Centuries']\n",
      "DEBUG: Processing table 'Table_Score_0_5_Fulls' in sheet 'Validation_Fields'\n",
      "DEBUG: Found 1 columns in table 'Table_Score_0_5_Fulls': ['Score']\n",
      "DEBUG: Found 1 tables in sheet 'Art_Movements'\n",
      "DEBUG: Processing table 'Art_Movements_Table' in sheet 'Art_Movements'\n",
      "DEBUG: Found 2 columns in table 'Art_Movements_Table': ['Art_Movements', 'Duplicate_Entry']\n",
      "DEBUG: Found 1 tables in sheet 'Languages'\n",
      "DEBUG: Processing table 'Table_Languages' in sheet 'Languages'\n",
      "DEBUG: Found 8 columns in table 'Table_Languages': ['Hash_ID', 'Language', 'ISO_639-1', 'ISO_639-1_Is_Duplicate', 'ISO_639-2', 'ISO_639-2_Is_Duplicate', 'ISO_639-3', 'ISO_639-3_Is_Duplicate']\n",
      "DEBUG: Found 1 tables in sheet 'Publishing_Houses'\n",
      "DEBUG: Processing table 'Table_Publishing_Houses' in sheet 'Publishing_Houses'\n",
      "DEBUG: Found 4 columns in table 'Table_Publishing_Houses': ['Publishing_House', 'Country', 'Duplicated_Entry', 'Specialties']\n",
      "DEBUG: Found 1 tables in sheet 'Perfume_Houses'\n",
      "DEBUG: Processing table 'Table19' in sheet 'Perfume_Houses'\n",
      "DEBUG: Found 3 columns in table 'Table19': ['Name', 'Country', 'Duplicated_Entry']\n",
      "DEBUG: Found 1 tables in sheet 'Countries_Continents'\n",
      "DEBUG: Processing table 'Table_Countries' in sheet 'Countries_Continents'\n",
      "DEBUG: Found 6 columns in table 'Table_Countries': ['Continent_Name', 'Continent_Code', 'Country_Name', 'Two_Letter_Country_Code', 'Three_Letter_Country_Code', 'Country_Number']\n",
      "DEBUG: Found 1 tables in sheet 'Hash_ID_Acronyms'\n",
      "DEBUG: Processing table 'Table18' in sheet 'Hash_ID_Acronyms'\n",
      "DEBUG: Found 2 columns in table 'Table18': ['Field', 'Acronym']\n",
      "DEBUG: Processed 30 tables in total\n",
      "\n",
      "DEBUG: Table inspection finished. Duration: 95.27 seconds.\n",
      "INFO: Found 175 columns across 30 tables in 27 sheets.\n"
     ]
    }
   ],
   "source": [
    "excel_structure_df = inspect_excel_tables(excel_file_path)"
   ]
  },
  {
   "cell_type": "code",
   "execution_count": 7,
   "id": "db1ec74c",
   "metadata": {},
   "outputs": [
    {
     "data": {
      "application/vnd.microsoft.datawrangler.viewer.v0+json": {
       "columns": [
        {
         "name": "index",
         "rawType": "int64",
         "type": "integer"
        },
        {
         "name": "Sheet",
         "rawType": "object",
         "type": "string"
        },
        {
         "name": "Table",
         "rawType": "object",
         "type": "string"
        },
        {
         "name": "Column",
         "rawType": "object",
         "type": "string"
        }
       ],
       "conversionMethod": "pd.DataFrame",
       "ref": "d43b9e00-3d8e-4403-8351-398f98294ed4",
       "rows": [
        [
         "0",
         "Occult_Library",
         "Table_Occult_Library",
         "Entry_Number"
        ],
        [
         "1",
         "Occult_Library",
         "Table_Occult_Library",
         "Category_01"
        ],
        [
         "2",
         "Occult_Library",
         "Table_Occult_Library",
         "Category_01_Number"
        ],
        [
         "3",
         "Occult_Library",
         "Table_Occult_Library",
         "Category_02"
        ],
        [
         "4",
         "Occult_Library",
         "Table_Occult_Library",
         "Category_02_Number"
        ],
        [
         "5",
         "Occult_Library",
         "Table_Occult_Library",
         "Title"
        ],
        [
         "6",
         "Occult_Library",
         "Table_Occult_Library",
         "Author"
        ],
        [
         "7",
         "Occult_Library",
         "Table_Occult_Library",
         "Edition/Translation"
        ],
        [
         "8",
         "Occult_Library",
         "Table_Occult_Library",
         "Edition_Language"
        ],
        [
         "9",
         "Occult_Library",
         "Table_Occult_Library",
         "Original_Language"
        ],
        [
         "10",
         "Occult_Library",
         "Table_Occult_Library",
         "Type"
        ],
        [
         "11",
         "Occult_Library",
         "Table_Occult_Library",
         "Description"
        ],
        [
         "12",
         "Occult_Library",
         "Table_Occult_Library",
         "Notes"
        ],
        [
         "13",
         "People",
         "Table_People",
         "Hash_ID"
        ],
        [
         "14",
         "People",
         "Table_People",
         "Name"
        ],
        [
         "15",
         "People",
         "Table_People",
         "Surname"
        ],
        [
         "16",
         "People",
         "Table_People",
         "Real Name"
        ],
        [
         "17",
         "People",
         "Table_People",
         "Type"
        ],
        [
         "18",
         "People",
         "Table_People",
         "Gender"
        ],
        [
         "19",
         "People",
         "Table_People",
         "Nationality"
        ],
        [
         "20",
         "People",
         "Table_People",
         "Birth_Date_Day"
        ],
        [
         "21",
         "People",
         "Table_People",
         "Birth_Date_Month"
        ],
        [
         "22",
         "People",
         "Table_People",
         "Birth_Date_Year"
        ],
        [
         "23",
         "People",
         "Table_People",
         "Birth_Date_Year_Gregorian"
        ],
        [
         "24",
         "People",
         "Table_People",
         "Birth_Date_Year_IsRange"
        ],
        [
         "25",
         "People",
         "Table_People",
         "Death_Date_Day"
        ],
        [
         "26",
         "People",
         "Table_People",
         "Death_Date_Month"
        ],
        [
         "27",
         "People",
         "Table_People",
         "Death_Date_Year"
        ],
        [
         "28",
         "People",
         "Table_People",
         "Death_Date_Year_Gregorian"
        ],
        [
         "29",
         "People",
         "Table_People",
         "Death_Date_Year_IsRange"
        ],
        [
         "30",
         "People",
         "Table_People",
         "Complete Name (Name Surname)"
        ],
        [
         "31",
         "People",
         "Table_People",
         "Complete Name (Surname Name)"
        ],
        [
         "32",
         "People",
         "Table_People",
         "Duplicated_Entry"
        ],
        [
         "33",
         "People",
         "Table_People",
         "Has_Image [Y/N]"
        ],
        [
         "34",
         "Calendars_Gregorian",
         "Table_Calendars_Gregorian",
         "Class"
        ],
        [
         "35",
         "Calendars_Gregorian",
         "Table_Calendars_Gregorian",
         "Description"
        ],
        [
         "36",
         "Books",
         "Table_Books",
         "Hash_ID"
        ],
        [
         "37",
         "Books",
         "Table_Books",
         "Duplicated_Entry"
        ],
        [
         "38",
         "Books",
         "Table_Books",
         "Title"
        ],
        [
         "39",
         "Books",
         "Table_Books",
         "Author"
        ],
        [
         "40",
         "Books",
         "Table_Books",
         "Series"
        ],
        [
         "41",
         "Books",
         "Table_Books",
         "Series_Number"
        ],
        [
         "42",
         "Books",
         "Table_Books",
         "Published_Date"
        ],
        [
         "43",
         "Books",
         "Table_Books",
         "Edition"
        ],
        [
         "44",
         "Books",
         "Table_Books",
         "Publisher"
        ],
        [
         "45",
         "Books",
         "Table_Books",
         "Published_Title"
        ],
        [
         "46",
         "Books",
         "Table_Books",
         "Published_Language"
        ],
        [
         "47",
         "Books",
         "Table_Books",
         "Page_Count"
        ],
        [
         "48",
         "Books",
         "Table_Books",
         "Description_GenAI"
        ],
        [
         "49",
         "Books",
         "Table_Books",
         "Recommended_By"
        ]
       ],
       "shape": {
        "columns": 3,
        "rows": 175
       }
      },
      "text/html": [
       "<div>\n",
       "<style scoped>\n",
       "    .dataframe tbody tr th:only-of-type {\n",
       "        vertical-align: middle;\n",
       "    }\n",
       "\n",
       "    .dataframe tbody tr th {\n",
       "        vertical-align: top;\n",
       "    }\n",
       "\n",
       "    .dataframe thead th {\n",
       "        text-align: right;\n",
       "    }\n",
       "</style>\n",
       "<table border=\"1\" class=\"dataframe\">\n",
       "  <thead>\n",
       "    <tr style=\"text-align: right;\">\n",
       "      <th></th>\n",
       "      <th>Sheet</th>\n",
       "      <th>Table</th>\n",
       "      <th>Column</th>\n",
       "    </tr>\n",
       "  </thead>\n",
       "  <tbody>\n",
       "    <tr>\n",
       "      <th>0</th>\n",
       "      <td>Occult_Library</td>\n",
       "      <td>Table_Occult_Library</td>\n",
       "      <td>Entry_Number</td>\n",
       "    </tr>\n",
       "    <tr>\n",
       "      <th>1</th>\n",
       "      <td>Occult_Library</td>\n",
       "      <td>Table_Occult_Library</td>\n",
       "      <td>Category_01</td>\n",
       "    </tr>\n",
       "    <tr>\n",
       "      <th>2</th>\n",
       "      <td>Occult_Library</td>\n",
       "      <td>Table_Occult_Library</td>\n",
       "      <td>Category_01_Number</td>\n",
       "    </tr>\n",
       "    <tr>\n",
       "      <th>3</th>\n",
       "      <td>Occult_Library</td>\n",
       "      <td>Table_Occult_Library</td>\n",
       "      <td>Category_02</td>\n",
       "    </tr>\n",
       "    <tr>\n",
       "      <th>4</th>\n",
       "      <td>Occult_Library</td>\n",
       "      <td>Table_Occult_Library</td>\n",
       "      <td>Category_02_Number</td>\n",
       "    </tr>\n",
       "    <tr>\n",
       "      <th>...</th>\n",
       "      <td>...</td>\n",
       "      <td>...</td>\n",
       "      <td>...</td>\n",
       "    </tr>\n",
       "    <tr>\n",
       "      <th>170</th>\n",
       "      <td>Countries_Continents</td>\n",
       "      <td>Table_Countries</td>\n",
       "      <td>Two_Letter_Country_Code</td>\n",
       "    </tr>\n",
       "    <tr>\n",
       "      <th>171</th>\n",
       "      <td>Countries_Continents</td>\n",
       "      <td>Table_Countries</td>\n",
       "      <td>Three_Letter_Country_Code</td>\n",
       "    </tr>\n",
       "    <tr>\n",
       "      <th>172</th>\n",
       "      <td>Countries_Continents</td>\n",
       "      <td>Table_Countries</td>\n",
       "      <td>Country_Number</td>\n",
       "    </tr>\n",
       "    <tr>\n",
       "      <th>173</th>\n",
       "      <td>Hash_ID_Acronyms</td>\n",
       "      <td>Table18</td>\n",
       "      <td>Field</td>\n",
       "    </tr>\n",
       "    <tr>\n",
       "      <th>174</th>\n",
       "      <td>Hash_ID_Acronyms</td>\n",
       "      <td>Table18</td>\n",
       "      <td>Acronym</td>\n",
       "    </tr>\n",
       "  </tbody>\n",
       "</table>\n",
       "<p>175 rows × 3 columns</p>\n",
       "</div>"
      ],
      "text/plain": [
       "                    Sheet                 Table                     Column\n",
       "0          Occult_Library  Table_Occult_Library               Entry_Number\n",
       "1          Occult_Library  Table_Occult_Library                Category_01\n",
       "2          Occult_Library  Table_Occult_Library         Category_01_Number\n",
       "3          Occult_Library  Table_Occult_Library                Category_02\n",
       "4          Occult_Library  Table_Occult_Library         Category_02_Number\n",
       "..                    ...                   ...                        ...\n",
       "170  Countries_Continents       Table_Countries    Two_Letter_Country_Code\n",
       "171  Countries_Continents       Table_Countries  Three_Letter_Country_Code\n",
       "172  Countries_Continents       Table_Countries             Country_Number\n",
       "173      Hash_ID_Acronyms               Table18                      Field\n",
       "174      Hash_ID_Acronyms               Table18                    Acronym\n",
       "\n",
       "[175 rows x 3 columns]"
      ]
     },
     "execution_count": 7,
     "metadata": {},
     "output_type": "execute_result"
    }
   ],
   "source": [
    "excel_structure_df"
   ]
  }
 ],
 "metadata": {
  "kernelspec": {
   "display_name": "phantom-canon-59mEnqag-py3.11",
   "language": "python",
   "name": "python3"
  },
  "language_info": {
   "codemirror_mode": {
    "name": "ipython",
    "version": 3
   },
   "file_extension": ".py",
   "mimetype": "text/x-python",
   "name": "python",
   "nbconvert_exporter": "python",
   "pygments_lexer": "ipython3",
   "version": "3.11.3"
  }
 },
 "nbformat": 4,
 "nbformat_minor": 5
}
