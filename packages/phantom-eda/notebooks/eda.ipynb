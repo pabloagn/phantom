{
 "cells": [
  {
   "cell_type": "code",
   "execution_count": 19,
   "metadata": {},
   "outputs": [],
   "source": [
    "import os\n",
    "import pandas as pd\n",
    "from pathlib import Path"
   ]
  },
  {
   "cell_type": "code",
   "execution_count": 20,
   "metadata": {},
   "outputs": [],
   "source": [
    "# Define paths\n",
    "PROJECT_ROOT = Path().absolute().parent\n",
    "excel_path = PROJECT_ROOT / \"reference\" / \"Works_List.xlsx\"\n",
    "output_dir = PROJECT_ROOT / \"outputs\""
   ]
  },
  {
   "cell_type": "code",
   "execution_count": 21,
   "metadata": {},
   "outputs": [],
   "source": [
    "# Create output directory if it doesn't exist\n",
    "os.makedirs(output_dir, exist_ok=True)"
   ]
  },
  {
   "cell_type": "code",
   "execution_count": 25,
   "metadata": {},
   "outputs": [],
   "source": [
    "# Read the Thinkers tab\n",
    "df = pd.read_excel(excel_path, sheet_name='Thinkers')"
   ]
  },
  {
   "cell_type": "code",
   "execution_count": 23,
   "metadata": {},
   "outputs": [],
   "source": [
    "# Extract unique types\n",
    "all_types = []\n",
    "for type_str in df['Type'].dropna():\n",
    "    types = [t.strip() for t in type_str.split(',')]\n",
    "    all_types.extend(types)\n",
    "\n",
    "unique_types = pd.Series(all_types).drop_duplicates().sort_values().reset_index(drop=True)\n",
    "unique_types.name = 'Type'"
   ]
  },
  {
   "cell_type": "code",
   "execution_count": 24,
   "metadata": {},
   "outputs": [],
   "source": [
    "# Save files\n",
    "def save_files():\n",
    "    df.to_csv(output_dir / \"thinkers.csv\", index=False, encoding='utf-8')\n",
    "    unique_types.to_csv(output_dir / \"thinkers_types.csv\", index=False, encoding='utf-8')\n",
    "# save_files()"
   ]
  }
 ],
 "metadata": {
  "kernelspec": {
   "display_name": "venv",
   "language": "python",
   "name": "python3"
  },
  "language_info": {
   "codemirror_mode": {
    "name": "ipython",
    "version": 3
   },
   "file_extension": ".py",
   "mimetype": "text/x-python",
   "name": "python",
   "nbconvert_exporter": "python",
   "pygments_lexer": "ipython3",
   "version": "3.11.3"
  }
 },
 "nbformat": 4,
 "nbformat_minor": 2
}
